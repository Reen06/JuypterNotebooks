{
 "cells": [
  {
   "cell_type": "markdown",
   "metadata": {},
   "source": [
    "# Modeling Wolf Population Dynamics in Yellowstone\n",
    "\n",
    "This notebook demonstrates several differential equation models for the wolf population in Yellowstone National Park using Python and Matplotlib."
   ]
  },
  {
   "cell_type": "code",
   "execution_count": null,
   "metadata": {},
   "outputs": [],
   "source": [
    "import numpy as np\n",
    "import matplotlib.pyplot as plt\n",
    "from scipy.integrate import odeint\n",
    "\n",
    "# For reproducibility\n",
    "np.random.seed(42)"
   ]
  },
  {
   "cell_type": "markdown",
   "metadata": {},
   "source": [
    "## 1. Logistic Growth Model\n",
    "The logistic growth equation models population growth with a carrying capacity $K$."
   ]
  },
  {
   "cell_type": "code",
   "execution_count": null,
   "metadata": {},
   "outputs": [],
   "source": [
    "def logistic_growth(P, t, r, K):\n",
    "    return r * P * (1 - P / K)\n",
    "\n",
    "# Parameters\n",
    "r = 0.3  # growth rate\n",
    "K = 500  # carrying capacity\n",
    "P0 = 50  # initial population\n",
    "t = np.linspace(0, 40, 400)\n",
    "\n",
    "P = odeint(logistic_growth, P0, t, args=(r, K))\n",
    "\n",
    "plt.figure(figsize=(8,5))\n",
    "plt.plot(t, P, label='Logistic Growth', color='green')\n",
    "plt.xlabel('Time (years)')\n",
    "plt.ylabel('Wolf Population')\n",
    "plt.title('Wolf Population: Logistic Growth')\n",
    "plt.legend()\n",
    "plt.grid(True)\n",
    "plt.show()\n",
    "\n",
    "# The population rises quickly at first, then levels off as it approaches the carrying capacity."
   ]
  },
  {
   "cell_type": "markdown",
   "metadata": {},
   "source": [
    "## 2. Predator-Prey Model (Lotka-Volterra)\n",
    "This system models interactions between wolves (predators) and elk (prey)."
   ]
  },
  {
   "cell_type": "code",
   "execution_count": null,
   "metadata": {},
   "outputs": [],
   "source": [
    "def lotka_volterra(y, t, a, b, c, d):\n",
    "    W, E = y\n",
    "    dWdt = a * W - b * W * E\n",
    "    dEdt = -c * E + d * W * E\n",
    "    return [dWdt, dEdt]\n",
    "\n",
    "# Parameters\n",
    "a = 0.1   # wolf growth rate\n",
    "b = 0.01  # predation rate\n",
    "c = 0.1   # elk death rate\n",
    "d = 0.005 # elk reproduction per wolf encounter\n",
    "W0 = 40   # initial wolves\n",
    "E0 = 800  # initial elk\n",
    "t2 = np.linspace(0, 80, 800)\n",
    "\n",
    "sol = odeint(lotka_volterra, [W0, E0], t2, args=(a, b, c, d))\n",
    "W = sol[:,0]\n",
    "E = sol[:,1]\n",
    "\n",
    "plt.figure(figsize=(8,5))\n",
    "plt.plot(t2, W, label='Wolves', color='red')\n",
    "plt.plot(t2, E, label='Elk', color='blue', linestyle='--')\n",
    "plt.xlabel('Time (years)')\n",
    "plt.ylabel('Population')\n",
    "plt.title('Lotka-Volterra: Wolves and Elk')\n",
    "plt.legend()\n",
    "plt.grid(True)\n",
    "plt.show()\n",
    "\n",
    "# The populations oscillate: wolves increase when elk are abundant, then decline, and so on."
   ]
  },
  {
   "cell_type": "markdown",
   "metadata": {},
   "source": [
    "## 3. Population Decline Scenario\n",
    "A sudden drop in carrying capacity (e.g., after a harsh winter) causes the population to adjust."
   ]
  },
  {
   "cell_type": "code",
   "execution_count": null,
   "metadata": {},
   "outputs": [],
   "source": [
    "K_high = 500\n",
    "K_low = 200\n",
    "t3 = np.linspace(0, 40, 400)\n",
    "\n",
    "def logistic_piecewise(P, t, r, K_high, K_low, t_change):\n",
    "    K = K_high if t < t_change else K_low\n",
    "    return r * P * (1 - P / K)\n",
    "\n",
    "def integrate_piecewise(P0, t, r, K_high, K_low, t_change):\n",
    "    dt = t[1] - t[0]\n",
    "    P = [P0]\n",
    "    for i in range(1, len(t)):\n",
    "        K = K_high if t[i] < t_change else K_low\n",
    "        dP = r * P[-1] * (1 - P[-1] / K)\n",
    "        P.append(P[-1] + dP * dt)\n",
    "    return np.array(P)\n",
    "\n",
    "t_change = 15\n",
    "P3 = integrate_piecewise(P0, t3, r, K_high, K_low, t_change)\n",
    "\n",
    "plt.figure(figsize=(8,5))\n",
    "plt.plot(t3, P3, label='Sudden Drop in K', color='purple')\n",
    "plt.axvline(t_change, color='gray', linestyle=':', label='Resource Shock')\n",
    "plt.xlabel('Time (years)')\n",
    "plt.ylabel('Wolf Population')\n",
    "plt.title('Population Decline After Resource Loss')\n",
    "plt.legend()\n",
    "plt.grid(True)\n",
    "plt.show()\n",
    "\n",
    "# The population drops after the carrying capacity decreases, then stabilizes at the new lower K."
   ]
  },
  {
   "cell_type": "markdown",
   "metadata": {},
   "source": [
    "## 4. Human Interference Scenario\n",
    "Simulate human-caused removals (e.g., hunting or relocation) by adding a constant removal rate $h$."
   ]
  },
  {
   "cell_type": "code",
   "execution_count": null,
   "metadata": {},
   "outputs": [],
   "source": [
    "def logistic_human(P, t, r, K, h):\n",
    "    return r * P * (1 - P / K) - h\n",
    "\n",
    "h = 10  # wolves removed per year\n",
    "P4 = odeint(logistic_human, P0, t, args=(r, K, h))\n",
    "\n",
    "plt.figure(figsize=(8,5))\n",
    "plt.plot(t, P, label='No Human Interference', color='green', linestyle='--')\n",
    "plt.plot(t, P4, label='With Human Removal', color='orange')\n",
    "plt.xlabel('Time (years)')\n",
    "plt.ylabel('Wolf Population')\n",
    "plt.title('Wolf Population: Human Interference')\n",
    "plt.legend()\n",
    "plt.grid(True)\n",
    "plt.show()\n",
    "\n",
    "# Human-caused removal lowers the equilibrium population, or can even cause extinction if h is too high."
   ]
  }
 ],
 "metadata": {
  "kernelspec": {
   "display_name": "Python 3",
   "language": "python",
   "name": "python3"
  },
  "language_info": {
   "name": "python",
   "version": "3.9"
  }
 },
 "nbformat": 4,
 "nbformat_minor": 2
}
